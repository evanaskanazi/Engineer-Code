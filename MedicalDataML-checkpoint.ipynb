{
 "cells": [
  {
   "cell_type": "code",
   "execution_count": 1,
   "metadata": {},
   "outputs": [
    {
     "name": "stdout",
     "output_type": "stream",
     "text": [
      "Requirement already up-to-date: gensim in c:\\users\\user\\anacondas\\lib\\site-packages (3.8.3)\n",
      "Requirement already satisfied, skipping upgrade: smart-open>=1.8.1 in c:\\users\\user\\anacondas\\lib\\site-packages (from gensim) (2.0.0)\n",
      "Requirement already satisfied, skipping upgrade: Cython==0.29.14 in c:\\users\\user\\anacondas\\lib\\site-packages (from gensim) (0.29.14)\n",
      "Requirement already satisfied, skipping upgrade: numpy>=1.11.3 in c:\\users\\user\\anacondas\\lib\\site-packages (from gensim) (1.18.1)\n",
      "Requirement already satisfied, skipping upgrade: six>=1.5.0 in c:\\users\\user\\anacondas\\lib\\site-packages (from gensim) (1.14.0)\n",
      "Requirement already satisfied, skipping upgrade: scipy>=0.18.1 in c:\\users\\user\\anacondas\\lib\\site-packages (from gensim) (1.4.1)\n",
      "Requirement already satisfied, skipping upgrade: boto in c:\\users\\user\\anacondas\\lib\\site-packages (from smart-open>=1.8.1->gensim) (2.49.0)\n",
      "Requirement already satisfied, skipping upgrade: requests in c:\\users\\user\\anacondas\\lib\\site-packages (from smart-open>=1.8.1->gensim) (2.22.0)\n",
      "Requirement already satisfied, skipping upgrade: boto3 in c:\\users\\user\\anacondas\\lib\\site-packages (from smart-open>=1.8.1->gensim) (1.13.16)\n",
      "Requirement already satisfied, skipping upgrade: urllib3!=1.25.0,!=1.25.1,<1.26,>=1.21.1 in c:\\users\\user\\anacondas\\lib\\site-packages (from requests->smart-open>=1.8.1->gensim) (1.25.8)\n",
      "Requirement already satisfied, skipping upgrade: chardet<3.1.0,>=3.0.2 in c:\\users\\user\\anacondas\\lib\\site-packages (from requests->smart-open>=1.8.1->gensim) (3.0.4)\n",
      "Requirement already satisfied, skipping upgrade: idna<2.9,>=2.5 in c:\\users\\user\\anacondas\\lib\\site-packages (from requests->smart-open>=1.8.1->gensim) (2.8)\n",
      "Requirement already satisfied, skipping upgrade: certifi>=2017.4.17 in c:\\users\\user\\anacondas\\lib\\site-packages (from requests->smart-open>=1.8.1->gensim) (2019.11.28)\n",
      "Requirement already satisfied, skipping upgrade: jmespath<1.0.0,>=0.7.1 in c:\\users\\user\\anacondas\\lib\\site-packages (from boto3->smart-open>=1.8.1->gensim) (0.10.0)\n",
      "Requirement already satisfied, skipping upgrade: botocore<1.17.0,>=1.16.16 in c:\\users\\user\\anacondas\\lib\\site-packages (from boto3->smart-open>=1.8.1->gensim) (1.16.16)\n",
      "Requirement already satisfied, skipping upgrade: s3transfer<0.4.0,>=0.3.0 in c:\\users\\user\\anacondas\\lib\\site-packages (from boto3->smart-open>=1.8.1->gensim) (0.3.3)\n",
      "Requirement already satisfied, skipping upgrade: python-dateutil<3.0.0,>=2.1 in c:\\users\\user\\anacondas\\lib\\site-packages (from botocore<1.17.0,>=1.16.16->boto3->smart-open>=1.8.1->gensim) (2.8.1)\n",
      "Requirement already satisfied, skipping upgrade: docutils<0.16,>=0.10 in c:\\users\\user\\anacondas\\lib\\site-packages (from botocore<1.17.0,>=1.16.16->boto3->smart-open>=1.8.1->gensim) (0.15.2)\n"
     ]
    }
   ],
   "source": [
    "import numpy as np\n",
    "from sklearn.datasets import load_digits\n",
    "import matplotlib.pyplot as plt\n",
    "from sklearn.decomposition import PCA\n",
    "from sklearn.preprocessing import scale\n",
    "import matplotlib.pyplot as plt\n",
    "from sklearn.discriminant_analysis import LinearDiscriminantAnalysis\n",
    "from sklearn.cluster import KMeans\n",
    "from sklearn.datasets import load_digits\n",
    "from scipy.spatial.distance import cdist\n",
    "from sklearn.preprocessing import scale\n",
    "from sklearn import datasets\n",
    "import matplotlib.cm as cm\n",
    "import csv\n",
    "import pandas as pd\n",
    "from sklearn.model_selection import train_test_split\n",
    "from sklearn.ensemble import RandomForestClassifier\n",
    "from sklearn import metrics\n",
    "from sklearn.model_selection import cross_val_score\n",
    "from sklearn.metrics import classification_report, confusion_matrix\n",
    "from sklearn import preprocessing\n",
    "from sklearn.svm import SVC\n",
    "import seaborn as sns; sns.set()\n",
    "from sklearn.neighbors import KNeighborsClassifier\n",
    "import re\n",
    "import gzip\n",
    "!python -m pip install -U gensim\n",
    "import gensim\n",
    "import logging\n",
    "from gensim.models import Word2Vec\n",
    "from gensim.test.utils import common_texts, get_tmpfile\n",
    "from csv import reader\n",
    "from math import sqrt\n",
    "\n",
    "path = get_tmpfile(\"word2vec.model\")"
   ]
  },
  {
   "cell_type": "code",
   "execution_count": 2,
   "metadata": {},
   "outputs": [
    {
     "name": "stderr",
     "output_type": "stream",
     "text": [
      "[nltk_data] Downloading package punkt to\n",
      "[nltk_data]     C:\\Users\\User\\AppData\\Roaming\\nltk_data...\n",
      "[nltk_data]   Package punkt is already up-to-date!\n"
     ]
    }
   ],
   "source": [
    "# Section for text to numerical data translation\n",
    "# setup word2vec routines for extracting numerical data from text\n",
    "# for classification of medical descriptions\n",
    "import nltk\n",
    "nltk.download('punkt')\n",
    "from nltk.tokenize import sent_tokenize, word_tokenize\n",
    "import warnings\n",
    "warnings.filterwarnings(action='ignore')\n",
    "import gensim\n",
    "from gensim.models import Word2Vec\n",
    "data = []"
   ]
  },
  {
   "cell_type": "code",
   "execution_count": 3,
   "metadata": {},
   "outputs": [],
   "source": [
    "sample = open(\"C:\\\\Users\\\\User\\\\PycharmProjects\\\\untitled3\\\\alice0.txt\", \"r\")\n",
    "s = sample.read()\n",
    "f = s.replace(\"\\n\", \" \")"
   ]
  },
  {
   "cell_type": "code",
   "execution_count": 4,
   "metadata": {},
   "outputs": [],
   "source": [
    "# iterate through each sentence in the file\n",
    "for i in sent_tokenize(f):\n",
    "    temp = []\n",
    "    # tokenize the sentence into words\n",
    "    for j in word_tokenize(i):\n",
    "        temp.append(j.lower())\n",
    "    data.append(temp)"
   ]
  },
  {
   "cell_type": "code",
   "execution_count": 5,
   "metadata": {},
   "outputs": [
    {
     "name": "stdout",
     "output_type": "stream",
     "text": [
      "Cosine similarity between 'alice' and 'wonderland' - CBOW :  0.9966969\n",
      "Cosine similarity between 'alice' and 'zzzzzzzzzzzzzzzzz' - CBOW :  0.9684549\n",
      "Cosine similarity between 'alice' and 'wonderland' - Skip Gram :  0.9982975\n",
      "Cosine similarity between 'alice' and 'ml' - Skip Gram :  0.995172\n"
     ]
    }
   ],
   "source": [
    "# Create first of 2 word2vec models\n",
    "model1 = gensim.models.Word2Vec(data, min_count=1,\n",
    "                                size=100, window=5)\n",
    "# Create second word2vec model for comparison and testing for efficiency\n",
    "model2 = gensim.models.Word2Vec(data, min_count=1, size=100,\n",
    "                                window=5, sg=2)\n",
    "print(\"Cosine similarity between 'alice' \" +\n",
    "      \"and 'wonderland' - CBOW : \",\n",
    "      model1.similarity('alice', 'wonderland'))\n",
    "print(\"Cosine similarity between 'alice' \" +\n",
    "      \"and 'zzzzzzzzzzzzzzzzz' - CBOW : \",\n",
    "      model1.similarity('alice', 'zzzzzzzzzzzzzzzzz'))\n",
    "print(\"Cosine similarity between 'alice' \" +\n",
    "      \"and 'wonderland' - Skip Gram : \",\n",
    "      model2.similarity('alice', 'wonderland'))\n",
    "print(\"Cosine similarity between 'alice' \" +\n",
    "      \"and 'ml' - Skip Gram : \",\n",
    "      model2.similarity('alice', 'ml'))"
   ]
  },
  {
   "cell_type": "code",
   "execution_count": 6,
   "metadata": {},
   "outputs": [],
   "source": [
    "# Section to read in and convert labelled medical data along with iris data set for reference data testing\n",
    "# csv data files, with text, numerical and datatime information are collected and converted to proper format\n",
    "# for ML clustering, classifications and predictions\n",
    "lab_enc = preprocessing.LabelEncoder()\n",
    "iris = datasets.load_iris()\n",
    "dff =pd.DataFrame(iris['data'])\n",
    "diagdf = pd.read_csv (r'C:/Users/User/PycharmProjects/untitled3/DIAGNOSES_ICD0.csv', skiprows=0)\n",
    "micdf = pd.read_csv (r'C:/Users/User/PycharmProjects/untitled3/MICROBIOLOGYEVENTSSS.csv', skiprows=0)\n",
    "inpdf = pd.read_csv (r'C:/Users/User/PycharmProjects/untitled3/INPUTEVENTS_MV0.csv', skiprows=0)\n",
    "CPTEVENTS = pd.read_csv (r'C:/Users/User/PycharmProjects/untitled3/CPTEVENTS0.csv', skiprows=1)\n",
    "ICUSTAYSinout = pd.read_csv (r'C:/Users/User/PycharmProjects/untitled3/ICUSTAYS0.csv', skiprows=1)\n",
    "OUTPUTEVENTSinout = pd.read_csv (r'C:/Users/User/PycharmProjects/untitled3/OUTPUTEVENTS0.csv', skiprows=1)"
   ]
  },
  {
   "cell_type": "code",
   "execution_count": 7,
   "metadata": {},
   "outputs": [
    {
     "name": "stdout",
     "output_type": "stream",
     "text": [
      "(940, 11)\n",
      "(13224, 18)\n"
     ]
    }
   ],
   "source": [
    "# convert inputevent, outputevent and microbiology data to array form\n",
    "# and eliminate outliers and nonreadable data from oututevents\n",
    "OUTPUTEVENTSm =OUTPUTEVENTSinout.fillna(OUTPUTEVENTSinout.mean())\n",
    "OUTPUTEVENTSarray =np.array(OUTPUTEVENTSm)\n",
    "micdfa =np.array(micdf)\n",
    "inpdfa =np.array(inpdf)\n",
    "print(micdfa.shape)\n",
    "print(inpdfa.shape)"
   ]
  },
  {
   "cell_type": "code",
   "execution_count": 8,
   "metadata": {},
   "outputs": [
    {
     "name": "stdout",
     "output_type": "stream",
     "text": [
      "[[6541 10114 167957 234989.0 40055 6.369138e+18 6.36913908e+18]\n",
      " [6542 10114 167957 234989.0 40055 6.3691452e+18 6.36914706e+18]\n",
      " [6543 10114 167957 234989.0 40055 6.3691488e+18 6.36915024e+18]\n",
      " [6544 10114 167957 234989.0 40055 6.369156e+18 6.36915612e+18]\n",
      " [6545 10114 167957 234989.0 40055 6.3691596e+18 6.36916014e+18]\n",
      " [6546 10114 167957 234989.0 40055 6.3691668e+18 6.36917028e+18]\n",
      " [6547 10114 167957 234989.0 40055 6.3691704e+18 6.3691707e+18]\n",
      " [6548 10114 167957 234989.0 40055 6.3691776e+18 6.36917844e+18]\n",
      " [6549 10114 167957 234989.0 40055 6.3691848e+18 6.36918594e+18]\n",
      " [6550 10114 167957 234989.0 40055 6.3691884e+18 6.36918954e+18]\n",
      " [6551 10114 167957 234989.0 40055 6.3691956e+18 6.3691965e+18]\n",
      " [6552 10114 167957 234989.0 40055 6.3692028e+18 6.36920706e+18]\n",
      " [6553 10114 167957 234989.0 40055 6.3692154e+18 6.36921558e+18]\n",
      " [6554 10114 167957 234989.0 40055 6.3692226e+18 6.36922374e+18]\n",
      " [6555 10114 167957 234989.0 40055 6.369228e+18 6.36923382e+18]\n",
      " [6556 10114 167957 234989.0 40055 6.3692316e+18 6.36923382e+18]\n",
      " [6557 10114 167957 234989.0 40055 6.3692424e+18 6.36924372e+18]\n",
      " [6558 10114 167957 234989.0 40055 6.369246e+18 6.3692487e+18]\n",
      " [6559 10114 167957 234989.0 40055 6.3692496e+18 6.36925134e+18]\n",
      " [6560 10114 167957 234989.0 40055 6.3692532e+18 6.36925434e+18]]\n"
     ]
    }
   ],
   "source": [
    "# convert datatime events into numerical data for clustering and classification\n",
    "iou6 = pd.DataFrame({'date' :OUTPUTEVENTSarray[: ,6] })\n",
    "iou6['date'] = pd.to_datetime(iou6['date'])\n",
    "iou6 = iou6.set_index('date')\n",
    "iou6 =iou6.index.values.astype(float)\n",
    "iou7 = pd.DataFrame({'date' :OUTPUTEVENTSarray[: ,7] })\n",
    "iou7['date'] = pd.to_datetime(iou7['date'])\n",
    "iou7 = iou7.set_index('date')\n",
    "iou7 =iou7.index.values.astype(float)\n",
    "OUTPUTEVENTSv =np.vstack((np.transpose(OUTPUTEVENTSarray[: ,0:5]), np.vstack((iou6 ,iou7))))\n",
    "OUTPUTEVENTS =np.transpose(OUTPUTEVENTSv)\n",
    "print(OUTPUTEVENTS[0:20,0:20])"
   ]
  },
  {
   "cell_type": "code",
   "execution_count": 9,
   "metadata": {},
   "outputs": [
    {
     "name": "stdout",
     "output_type": "stream",
     "text": [
      "[[12747 10011 105331 232110 15 15 4.94242044e+18 4.94361714e+18]\n",
      " [12749 10013 165520 264446 15 15 4.91529468e+18 4.915523632e+18]\n",
      " [12754 10017 199207 204881 7 7 5.661600749e+18 5.661785957e+18]\n",
      " [12755 10019 177759 228977 15 15 6.102074636e+18 6.102186424e+18]\n",
      " [12762 10026 103770 277021 33 33 7.112130018e+18 7.112337865e+18]\n",
      " [12763 10027 199395 286020 12 12 6.959299147e+18 6.959926545e+18]\n",
      " [12765 10029 132349 226055 33 33 5.35606783e+18 5.356263304e+18]\n",
      " [12767 10032 140372 267090 52 52 5.309977098e+18 5.310297814e+18]\n",
      " [12768 10033 157235 254543 33 33 5.141538798e+18 5.141631202e+18]\n",
      " [12770 10035 110244 296804 23 23 5.022999611e+18 5.023118451e+18]\n",
      " [12771 10036 189483 227834 12 12 6.791965025e+18 6.792121136e+18]\n",
      " [12773 10038 111115 235482 33 33 5.494479034e+18 5.494771557e+18]\n",
      " [12775 10040 157839 272047 12 12 5.590208627e+18 5.590392712e+18]\n",
      " [12777 10042 148562 258147 14 14 5.588743259e+18 5.589446683e+18]\n",
      " [12778 10043 168674 266122 12 12 6.793719836e+18 6.793893858e+18]\n",
      " [12779 10044 124073 270154 52 52 5.767207369e+18 5.767606358e+18]\n",
      " [12780 10045 126949 203766 50 57 5.045928417e+18 5.046473035e+18]\n",
      " [12781 10046 133110 213289 57 57 7.08670014e+18 7.08694926e+18]\n",
      " [12791 10056 100375 285789 52 52 5.028048759e+18 5.028139405e+18]\n",
      " [12794 10059 142582 215460 23 23 5.699194888e+18 5.699348728e+18]]\n"
     ]
    }
   ],
   "source": [
    "ICUSTAYSArray =np.array(ICUSTAYSinout)\n",
    "icu7 = pd.DataFrame({'date' :ICUSTAYSArray[: ,7] })\n",
    "icu7['date'] = pd.to_datetime(icu7['date'])\n",
    "icu7 = icu7.set_index('date')\n",
    "icu7 =icu7.index.values.astype(float)\n",
    "icu8 = pd.DataFrame({'date' :ICUSTAYSArray[: ,8] })\n",
    "icu8['date'] = pd.to_datetime(icu8['date'])\n",
    "icu8 = icu8.set_index('date')\n",
    "icu8 =icu8.index.values.astype(float)\n",
    "ICUSTAYSv =np.vstack((np.transpose(ICUSTAYSArray[: ,0:6]), np.vstack((icu7 ,icu8))))\n",
    "ICUSTAYS =np.transpose(ICUSTAYSv)\n",
    "print(ICUSTAYS[0:20,0:20])"
   ]
  },
  {
   "cell_type": "code",
   "execution_count": 10,
   "metadata": {},
   "outputs": [
    {
     "name": "stdout",
     "output_type": "stream",
     "text": [
      "[6.14767500e+18 6.14767500e+18 6.14767500e+18 6.14767500e+18\n",
      " 6.14767500e+18 6.14767500e+18 6.14767500e+18 6.10207872e+18\n",
      " 6.10207872e+18 6.10207872e+18 6.10207872e+18 6.10207872e+18\n",
      " 6.10207872e+18 6.10207878e+18 6.10207878e+18 6.10207878e+18\n",
      " 6.10207878e+18 7.11213552e+18 7.11213552e+18 7.11213552e+18]\n"
     ]
    }
   ],
   "source": [
    "inp4 = pd.DataFrame({'date' :inpdfa[: ,4] })\n",
    "inp4['date'] = pd.to_datetime(inp4['date'])\n",
    "inp4 = inp4.set_index('date')\n",
    "inp4 =inp4.index.values.astype(float)\n",
    "inp5 = pd.DataFrame({'date' :inpdfa[: ,5] })\n",
    "inp5['date'] = pd.to_datetime(inp5['date'])\n",
    "inp5 = inp5.set_index('date')\n",
    "inp5 =inp5.index.values.astype(float)\n",
    "inp8 =[model1.similarity('ml' ,inpdfa[i ,8]) for i in range (len(inpdfa[: ,8]))]\n",
    "inp9 = pd.DataFrame({'date' :inpdfa[: ,9] })\n",
    "inp9['date'] = pd.to_datetime(inp9['date'])\n",
    "inp9 = inp9.set_index('date')\n",
    "inp9 =inp9.index.values.astype(float)\n",
    "biol =micdfa[: ,0:3]\n",
    "dfa3 = pd.DataFrame({'date' :micdfa[: ,3] })\n",
    "dfa3['date'] = pd.to_datetime(dfa3['date'])\n",
    "dfa3 = dfa3.set_index('date')\n",
    "dfa3 =dfa3.index.values.astype(float)\n",
    "dfa4 = pd.DataFrame({'date' :micdfa[: ,4] })\n",
    "dfa4['date'] = pd.to_datetime(dfa4['date'])\n",
    "dfa4 = dfa4.set_index('date')\n",
    "dfa4 =dfa4.index.values.astype(float)\n",
    "print(dfa4[0:20])"
   ]
  },
  {
   "cell_type": "code",
   "execution_count": 11,
   "metadata": {},
   "outputs": [
    {
     "name": "stdout",
     "output_type": "stream",
     "text": [
      "[[134695 134696 134697 134698 134699 134700 134701 134802 134803 134804\n",
      "  134805 134806 134807 134811 134812 134813 134814 134822 134823 134824]\n",
      " [10006 10006 10006 10006 10006 10006 10006 10019 10019 10019 10019 10019\n",
      "  10019 10019 10019 10019 10019 10026 10026 10026]\n",
      " [142345 142345 142345 142345 142345 142345 142345 177759 177759 177759\n",
      "  177759 177759 177759 177759 177759 177759 177759 103770 103770 103770]\n",
      " [6.1476192e+18 6.1476192e+18 6.1476192e+18 6.1476192e+18 6.1476192e+18\n",
      "  6.1476192e+18 6.1476192e+18 6.102e+18 6.102e+18 6.102e+18 6.102e+18\n",
      "  6.102e+18 6.102e+18 6.102e+18 6.102e+18 6.102e+18 6.102e+18\n",
      "  7.1121024e+18 7.1121024e+18 7.1121024e+18]\n",
      " [6.147675e+18 6.147675e+18 6.147675e+18 6.147675e+18 6.147675e+18\n",
      "  6.147675e+18 6.147675e+18 6.10207872e+18 6.10207872e+18 6.10207872e+18\n",
      "  6.10207872e+18 6.10207872e+18 6.10207872e+18 6.10207878e+18\n",
      "  6.10207878e+18 6.10207878e+18 6.10207878e+18 7.11213552e+18\n",
      "  7.11213552e+18 7.11213552e+18]\n",
      " [70012 70012 70012 70012 70012 70012 70012 70012 70012 70012 70012 70012\n",
      "  70012 70079 70079 70079 70079 70079 70079 70079]\n",
      " [80155 80155 80155 80155 80155 80155 80155 80055 80055 80172 80172 80172\n",
      "  80172 80053 80053 80053 80053 80218 80218 80218]\n",
      " [1 1 1 1 1 1 1 1 1 1 1 1 1 1 1 1 1 2 2 2]\n",
      " [90015 90012 90025 90016 90011 90006 90002 90006 90002 90025 90015 90004\n",
      "  90002 90010 90004 90015 90025 90020 90021 90018]]\n"
     ]
    }
   ],
   "source": [
    "# create matrix data for inout events\n",
    "inp13 =[re.findall('\\d+', inpdfa[i ,13] ) for i in range (len(inpdfa[: ,13]))]\n",
    "inp13i =[int(np.array(inp13[i])) for i in range (len(inpdfa[: ,13]))]\n",
    "input1 =inpdfa[: ,0:3]\n",
    "input2 =inpdfa[: ,6:8]\n",
    "input3 =inpdfa[: ,[10 ,11 ,12 ,14 ,15 ,16 ,17]]\n",
    "inputn1 =np.vstack((np.transpose(input1), np.vstack((inp4 ,inp5))))\n",
    "inputn2 =np.vstack((inputn1, np.transpose(input2)))\n",
    "inputn3 =np.vstack((inputn2, np.vstack((inp8 ,inp9))))\n",
    "inputn4 =np.vstack((inputn3, np.transpose(input3)))\n",
    "inputevents =np.transpose(np.vstack((inputn4, inp13i)))\n",
    "biostn =np.vstack((np.transpose(biol[: ,0:3]), np.vstack((dfa3 ,dfa4))))\n",
    "biostfn =np.vstack((biostn ,np.transpose(micdfa[: ,5:9]) ))\n",
    "print(biostfn[0:20,0:20])"
   ]
  },
  {
   "cell_type": "code",
   "execution_count": 12,
   "metadata": {},
   "outputs": [
    {
     "name": "stdout",
     "output_type": "stream",
     "text": [
      "(940, 10)\n",
      "[[134695 10006 142345 6.1476192e+18 6.147675e+18 70012 80155]\n",
      " [134696 10006 142345 6.1476192e+18 6.147675e+18 70012 80155]\n",
      " [134697 10006 142345 6.1476192e+18 6.147675e+18 70012 80155]\n",
      " [134698 10006 142345 6.1476192e+18 6.147675e+18 70012 80155]\n",
      " [134699 10006 142345 6.1476192e+18 6.147675e+18 70012 80155]\n",
      " [134700 10006 142345 6.1476192e+18 6.147675e+18 70012 80155]\n",
      " [134701 10006 142345 6.1476192e+18 6.147675e+18 70012 80155]]\n"
     ]
    }
   ],
   "source": [
    "# convert text column of microbiology data into data for classification\n",
    "l = [0 if element == 'I' else element for element in micdfa[: ,10]]\n",
    "m = [1 if element == 'R' else element for element in l]\n",
    "n = [2 if element == 'S' else element for element in m]\n",
    "biostf =np.vstack((biostfn ,n ))\n",
    "biodata =np.transpose(biostf)\n",
    "# set up data for clustering\n",
    "#data types include patient input \n",
    "# which characterize and output data,\n",
    "#the time frame over which the patient \n",
    "#stays at the hospital and the drugs adminsitered,\n",
    "#ther icustays data, which describes the type of ICU\n",
    "#and the nature of patients' time at an ICU type\n",
    "#CPTEvents, which gives the CPT codes for patient billing\n",
    "#patient diagnoses, labelled as diagdf and microbiology data\n",
    "#labelled as biodata, which describes the types of\n",
    "#bacteria found in patients\n",
    "\n",
    "# data = digits.data\n",
    "#data=diagdf\n",
    "data =biodata\n",
    "#data=inputevents\n",
    "# data=CPTEVENTS\n",
    "# data=ICUSTAYS\n",
    "# data=OUTPUTEVENTS.fillna(OUTPUTEVENTS.mean())\n",
    "#data=OUTPUTEVENTS\n",
    "\n",
    "print(data.shape)\n",
    "print(data[0:7,0:7])"
   ]
  },
  {
   "cell_type": "code",
   "execution_count": 13,
   "metadata": {},
   "outputs": [],
   "source": [
    "# extract features of data to be clustered\n",
    "n_samples, n_features = data.shape\n",
    "# prepare data for training, separating data\n",
    "# into input vectors for training and output\n",
    "# data for fitting\n",
    "candidates = {'1' :data[: ,0],\n",
    "              '2' :data[: ,1] ,\n",
    "              '3' :data[: ,2],\n",
    "              '4' :data[: ,5] ,\n",
    "              '5' :lab_enc.fit_transform(data[: ,7])\n",
    "              }\n",
    "df = pd.DataFrame(candidates ,columns= ['1', '2' ,'3' ,'4' ,'5'])\n",
    "X = df[['1', '2' ,'3' ,'4']]\n",
    "y = df['5']"
   ]
  },
  {
   "cell_type": "code",
   "execution_count": 14,
   "metadata": {},
   "outputs": [],
   "source": [
    "# Section for linear algbra based data analytics\n",
    "# perform singular value decomposition of medical data for information theory\n",
    "u, s, vh = np.linalg.svd(np.matrix(data, dtype='float'), full_matrices=True)\n",
    "rows ,cols = u.T.shape\n",
    "maxes = 1.1 *np.amax(abs(u), axis = 0)\n",
    "rowsv ,colsv = vh.T.shape\n",
    "ars =np.array(s)\n",
    "arvh =np.array(vh)\n",
    "L = np.matrix([[np.array(s)[i ] *np.array(vh)[i ,j] for j in range(rowsv)] for i in range(rowsv)])"
   ]
  },
  {
   "cell_type": "code",
   "execution_count": 15,
   "metadata": {},
   "outputs": [],
   "source": [
    "# Plot eigenvector svd data for characterization of patient data\n",
    "xs =[]\n",
    "ys =[]\n",
    "xs = [i for i in (range(0 ,colsv)) ]\n",
    "ys = [np.array(L)[0 ,i]  for i in (range(0 ,colsv)) ]\n",
    "ys1 = [np.array(L)[1 ,i]  for i in (range(0 ,colsv)) ]\n",
    "ys2 = [np.array(L)[2 ,i]  for i in (range(0 ,colsv)) ]"
   ]
  },
  {
   "cell_type": "code",
   "execution_count": 16,
   "metadata": {},
   "outputs": [
    {
     "data": {
      "image/png": "[encoded data removed]",
      "text/plain": [
       "<Figure size 432x288 with 1 Axes>"
      ]
     },
     "metadata": {},
     "output_type": "display_data"
    }
   ],
   "source": [
    "plt.xlim(0 ,10)\n",
    "plt.ylim(1.0e+0 ,1.0e+21)\n",
    "plt.yscale('log')\n",
    "plt.plot(abs(np.array(xs)) ,abs(np.array(ys)))\n",
    "plt.plot(abs(np.array(xs)) ,abs(np.array(ys1)))\n",
    "plt.plot(abs(np.array(xs)) ,abs(np.array(ys2)))\n",
    "plt.legend(['u' + str(i) for i in range(3)])  # <-- give a legend\n",
    "plt.grid(b=True, which='major')  # <-- plot grid lines\n",
    "plt.show()"
   ]
  },
  {
   "cell_type": "code",
   "execution_count": 17,
   "metadata": {},
   "outputs": [
    {
     "name": "stdout",
     "output_type": "stream",
     "text": [
      "[[204   2   0   0]\n",
      " [  1  12   0   0]\n",
      " [  0   0  10   1]\n",
      " [  0   0   0   5]]\n",
      "              precision    recall  f1-score   support\n",
      "\n",
      "           0       1.00      0.99      0.99       206\n",
      "           1       0.86      0.92      0.89        13\n",
      "           2       1.00      0.91      0.95        11\n",
      "           3       0.83      1.00      0.91         5\n",
      "\n",
      "    accuracy                           0.98       235\n",
      "   macro avg       0.92      0.96      0.94       235\n",
      "weighted avg       0.98      0.98      0.98       235\n",
      "\n"
     ]
    }
   ],
   "source": [
    "#Patient data is analyzed using various ML methods:\n",
    "#Random Forest, an ensemble method, svx, a supervised process\n",
    "#and KNN, an instance based learning method\n",
    "#The three methods are then compared for most accurate fit\n",
    "\n",
    "# Section for Classifying and Predicting Patient Data Behavior\n",
    "# classify and predict training data based on Random Forest\n",
    "clf = RandomForestClassifier(n_estimators=100)\n",
    "X_train ,X_test ,y_train ,y_test = train_test_split(X ,y ,test_size=0.25 ,random_state=0)\n",
    "clf.fit(X_train ,y_train)\n",
    "y_pred = clf.predict(X_test)\n",
    "print(confusion_matrix(y_test, y_pred))\n",
    "print(classification_report(y_test, y_pred))"
   ]
  },
  {
   "cell_type": "code",
   "execution_count": 18,
   "metadata": {},
   "outputs": [
    {
     "name": "stdout",
     "output_type": "stream",
     "text": [
      "[[204   2   0   0]\n",
      " [  0  13   0   0]\n",
      " [  0   0  10   1]\n",
      " [  0   0   0   5]]\n",
      "              precision    recall  f1-score   support\n",
      "\n",
      "           0       1.00      0.99      1.00       206\n",
      "           1       0.87      1.00      0.93        13\n",
      "           2       1.00      0.91      0.95        11\n",
      "           3       0.83      1.00      0.91         5\n",
      "\n",
      "    accuracy                           0.99       235\n",
      "   macro avg       0.93      0.97      0.95       235\n",
      "weighted avg       0.99      0.99      0.99       235\n",
      "\n"
     ]
    }
   ],
   "source": [
    "# classify and predict training data based on SVC\n",
    "model = SVC(kernel='rbf', class_weight='balanced')\n",
    "model.fit(X_train, y_train)\n",
    "y_predsvc = model.predict(X_test)\n",
    "print(confusion_matrix(y_test, y_predsvc))\n",
    "print(classification_report(y_test, y_predsvc))"
   ]
  },
  {
   "cell_type": "code",
   "execution_count": 19,
   "metadata": {},
   "outputs": [
    {
     "name": "stdout",
     "output_type": "stream",
     "text": [
      "[[205   1   0   0]\n",
      " [  2  11   0   0]\n",
      " [  0   0  11   0]\n",
      " [  0   0   1   4]]\n",
      "              precision    recall  f1-score   support\n",
      "\n",
      "           0       0.99      1.00      0.99       206\n",
      "           1       0.92      0.85      0.88        13\n",
      "           2       0.92      1.00      0.96        11\n",
      "           3       1.00      0.80      0.89         5\n",
      "\n",
      "    accuracy                           0.98       235\n",
      "   macro avg       0.96      0.91      0.93       235\n",
      "weighted avg       0.98      0.98      0.98       235\n",
      "\n"
     ]
    }
   ],
   "source": [
    "# classify and predict training data based on KNN\n",
    "classifier = KNeighborsClassifier(n_neighbors=5)\n",
    "classifier.fit(X_train, y_train)\n",
    "y_predclas = classifier.predict(X_test)\n",
    "print(confusion_matrix(y_test, y_predclas))\n",
    "print(classification_report(y_test, y_predclas))"
   ]
  },
  {
   "cell_type": "code",
   "execution_count": 20,
   "metadata": {},
   "outputs": [],
   "source": [
    "# Section for Random FOrest Classification\n",
    "# make prediction on how inout patient data will be classified based on Random Forest Method\n",
    "names = ['1', '2', '3', '4', '5', '6', '7', '8', '9' ,'10']\n",
    "dfh = pd.read_csv(r'C:/Users/User/PycharmProjects/untitled3/biodata.csv', names=names)\n",
    "X = dfh.drop('10', axis=1)\n",
    "y = dfh['10']\n",
    "xf =dfh.iloc[:, 0:2].values\n",
    "yf =dfh.iloc[: ,2].values\n",
    "X_train, X_test, y_train, y_test = train_test_split(xf, yf, test_size=0.33, random_state=66)\n",
    "rfc = RandomForestClassifier()\n",
    "rfc.fit(X_train ,y_train)\n",
    "rfc_predict = rfc.predict(X_test)"
   ]
  },
  {
   "cell_type": "code",
   "execution_count": 21,
   "metadata": {},
   "outputs": [
    {
     "data": {
      "image/png": "[encoded data removed]",
      "text/plain": [
       "<Figure size 432x288 with 1 Axes>"
      ]
     },
     "metadata": {},
     "output_type": "display_data"
    }
   ],
   "source": [
    "# K Means Clustering Section\n",
    "# perform elbow cluster determination for K Means clustering\n",
    "# based on input patient data after it has been reduced to\n",
    "# two dimensional structure through principle component analysis\n",
    "K = range(1 ,20)\n",
    "explainedvariance= []\n",
    "distortions = []\n",
    "for k in K:\n",
    "    reduced_data = PCA(n_components=2).fit_transform(data)\n",
    "    kmeans = KMeans(init = 'k-means++', n_clusters = k, n_init = k)\n",
    "    kmeans.fit(reduced_data)\n",
    "    distortions.append(kmeans.inertia_)\n",
    "    explainedvariance.append(sum(np.min(cdist(reduced_data,\n",
    "                                              kmeans.cluster_centers_, 'euclidean'), axis =\n",
    "                                        1) ) /data.shape[0])\n",
    "plt.plot(K, distortions, 'bx-')\n",
    "plt.savefig('C:/Users/User/PycharmProjects/untitled3/elbowmicrobiologyevents.png')\n",
    "plt.show()"
   ]
  },
  {
   "cell_type": "code",
   "execution_count": 22,
   "metadata": {},
   "outputs": [
    {
     "data": {
      "image/png": "[encoded data removed]",
      "text/plain": [
       "<Figure size 432x288 with 1 Axes>"
      ]
     },
     "metadata": {},
     "output_type": "display_data"
    }
   ],
   "source": [
    "# reduces inout patient data to two dimensions va PCA\n",
    "# and separates them into K Mean centroids\n",
    "\n",
    "X = PCA(n_components=2).fit_transform(data)\n",
    "kmd =KMeans(n_clusters=3, init='k-means++', n_init=10, max_iter=300, tol=0.0001, precompute_distances='auto',\n",
    "           verbose=0, random_state=None, copy_x=True, n_jobs=None, algorithm='auto')\n",
    "y_km = kmd.fit_predict(X)\n",
    "plt.scatter(X[y_km == 0, 0], X[y_km == 0, 1] ,s=50, c='lightgreen',\n",
    "            marker='s', edgecolor='black' ,label='cluster 1')\n",
    "plt.scatter(X[y_km == 1, 0], X[y_km == 1, 1] ,s=50, c='blue',\n",
    "            marker='h', edgecolor='black' ,label='cluster 2')\n",
    "plt.scatter(X[y_km == 2, 0], X[y_km == 2, 1] ,s=50, c='purple',\n",
    "            marker='v', edgecolor='black' ,label='cluster 3')\n",
    "# plt.ylim(-1.0e+16,2.0e+16)\n",
    "plt.savefig('C:/Users/User/PycharmProjects/untitled3/kmeansmicrobiologyevents.png')\n",
    "plt.grid()\n",
    "plt.show()"
   ]
  },
  {
   "cell_type": "code",
   "execution_count": 23,
   "metadata": {},
   "outputs": [],
   "source": [
    "# KNN Nearest Neighbor CLusterign Section\n",
    "# Find the min and max values for each column\n",
    "def dataset_minmax(dataset):\n",
    "    minmax = list()\n",
    "    for i in range(len(dataset[0])):\n",
    "        col_values = [row[i] for row in dataset]\n",
    "        value_min = min(col_values)\n",
    "        value_max = max(col_values)\n",
    "        minmax.append([value_min, value_max])\n",
    "    return minmax\n",
    "# Rescale dataset columns to the range 0-1\n",
    "def normalize_dataset(dataset, minmax):\n",
    "    for row in dataset:\n",
    "        for i in range(len(row)):\n",
    "            row[i] = (row[i] - minmax[i][0]) / (minmax[i][1] - minmax[i][0])\n",
    "# Calculate the Euclidean distance between two vectors\n",
    "def minkowski_distance(row1, row2):\n",
    "    distance = 0.0\n",
    "    for i in range(len(row1) - 1):\n",
    "        distance += (row1[i] - row2[i]) ** 3\n",
    "    return (distance ** (1. / 3))\n",
    "# Locate the most similar neighbors\n",
    "def get_neighbors(train, test_row, num_neighbors):\n",
    "    distances = list()\n",
    "    for train_row in train:\n",
    "        dist = minkowski_distance(test_row, train_row)\n",
    "        distances.append((train_row, dist))\n",
    "    distances.sort(key=lambda tup: tup[1])\n",
    "    neighbors = list()\n",
    "    for i in range(num_neighbors):\n",
    "        neighbors.append(distances[i][0])\n",
    "    return neighbors\n",
    "# Make a prediction with neighbors\n",
    "def predict_classification(train, test_row, num_neighbors):\n",
    "    neighbors = get_neighbors(train, test_row, num_neighbors)\n",
    "    output_values = [row[-1] for row in neighbors]\n",
    "    prediction = max(set(output_values), key=output_values.count)\n",
    "    return prediction"
   ]
  },
  {
   "cell_type": "code",
   "execution_count": 24,
   "metadata": {},
   "outputs": [
    {
     "name": "stdout",
     "output_type": "stream",
     "text": [
      "Data=[1.3469500e+05 1.0006000e+04 1.4234500e+05 6.1476192e+18 6.1476750e+18\n",
      " 7.0012000e+04 8.0155000e+04 1.0000000e+00 9.0015000e+04 2.0000000e+00], Predicted: 2.0\n",
      "Data=[1.3469600e+05 1.0006000e+04 1.4234500e+05 6.1476192e+18 6.1476750e+18\n",
      " 7.0012000e+04 8.0155000e+04 1.0000000e+00 9.0012000e+04 2.0000000e+00], Predicted: 2.0\n",
      "Data=[1.3469700e+05 1.0006000e+04 1.4234500e+05 6.1476192e+18 6.1476750e+18\n",
      " 7.0012000e+04 8.0155000e+04 1.0000000e+00 9.0025000e+04 0.0000000e+00], Predicted: 2.0\n",
      "Data=[1.3469800e+05 1.0006000e+04 1.4234500e+05 6.1476192e+18 6.1476750e+18\n",
      " 7.0012000e+04 8.0155000e+04 1.0000000e+00 9.0016000e+04 1.0000000e+00], Predicted: 2.0\n",
      "Data=[1.3469900e+05 1.0006000e+04 1.4234500e+05 6.1476192e+18 6.1476750e+18\n",
      " 7.0012000e+04 8.0155000e+04 1.0000000e+00 9.0011000e+04 2.0000000e+00], Predicted: 2.0\n",
      "Data=[1.3470000e+05 1.0006000e+04 1.4234500e+05 6.1476192e+18 6.1476750e+18\n",
      " 7.0012000e+04 8.0155000e+04 1.0000000e+00 9.0006000e+04 1.0000000e+00], Predicted: 2.0\n",
      "Data=[1.3470100e+05 1.0006000e+04 1.4234500e+05 6.1476192e+18 6.1476750e+18\n",
      " 7.0012000e+04 8.0155000e+04 1.0000000e+00 9.0002000e+04 1.0000000e+00], Predicted: 2.0\n",
      "Data=[1.34802000e+05 1.00190000e+04 1.77759000e+05 6.10200000e+18\n",
      " 6.10207872e+18 7.00120000e+04 8.00550000e+04 1.00000000e+00\n",
      " 9.00060000e+04 1.00000000e+00], Predicted: 2.0\n",
      "Data=[1.34803000e+05 1.00190000e+04 1.77759000e+05 6.10200000e+18\n",
      " 6.10207872e+18 7.00120000e+04 8.00550000e+04 1.00000000e+00\n",
      " 9.00020000e+04 2.00000000e+00], Predicted: 2.0\n",
      "Data=[1.34804000e+05 1.00190000e+04 1.77759000e+05 6.10200000e+18\n",
      " 6.10207872e+18 7.00120000e+04 8.01720000e+04 1.00000000e+00\n",
      " 9.00250000e+04 2.00000000e+00], Predicted: 2.0\n",
      "Data=[1.34805000e+05 1.00190000e+04 1.77759000e+05 6.10200000e+18\n",
      " 6.10207872e+18 7.00120000e+04 8.01720000e+04 1.00000000e+00\n",
      " 9.00150000e+04 2.00000000e+00], Predicted: 2.0\n",
      "Data=[1.34806000e+05 1.00190000e+04 1.77759000e+05 6.10200000e+18\n",
      " 6.10207872e+18 7.00120000e+04 8.01720000e+04 1.00000000e+00\n",
      " 9.00040000e+04 2.00000000e+00], Predicted: 2.0\n",
      "Data=[1.34807000e+05 1.00190000e+04 1.77759000e+05 6.10200000e+18\n",
      " 6.10207872e+18 7.00120000e+04 8.01720000e+04 1.00000000e+00\n",
      " 9.00020000e+04 2.00000000e+00], Predicted: 2.0\n",
      "Data=[1.34811000e+05 1.00190000e+04 1.77759000e+05 6.10200000e+18\n",
      " 6.10207878e+18 7.00790000e+04 8.00530000e+04 1.00000000e+00\n",
      " 9.00100000e+04 2.00000000e+00], Predicted: 2.0\n",
      "Data=[1.34812000e+05 1.00190000e+04 1.77759000e+05 6.10200000e+18\n",
      " 6.10207878e+18 7.00790000e+04 8.00530000e+04 1.00000000e+00\n",
      " 9.00040000e+04 2.00000000e+00], Predicted: 2.0\n",
      "Data=[1.34813000e+05 1.00190000e+04 1.77759000e+05 6.10200000e+18\n",
      " 6.10207878e+18 7.00790000e+04 8.00530000e+04 1.00000000e+00\n",
      " 9.00150000e+04 2.00000000e+00], Predicted: 2.0\n",
      "Data=[1.34814000e+05 1.00190000e+04 1.77759000e+05 6.10200000e+18\n",
      " 6.10207878e+18 7.00790000e+04 8.00530000e+04 1.00000000e+00\n",
      " 9.00250000e+04 2.00000000e+00], Predicted: 2.0\n",
      "Data=[1.34822000e+05 1.00260000e+04 1.03770000e+05 7.11210240e+18\n",
      " 7.11213552e+18 7.00790000e+04 8.02180000e+04 2.00000000e+00\n",
      " 9.00200000e+04 2.00000000e+00], Predicted: 2.0\n",
      "Data=[1.34823000e+05 1.00260000e+04 1.03770000e+05 7.11210240e+18\n",
      " 7.11213552e+18 7.00790000e+04 8.02180000e+04 2.00000000e+00\n",
      " 9.00210000e+04 2.00000000e+00], Predicted: 2.0\n",
      "Data=[1.34824000e+05 1.00260000e+04 1.03770000e+05 7.11210240e+18\n",
      " 7.11213552e+18 7.00790000e+04 8.02180000e+04 2.00000000e+00\n",
      " 9.00180000e+04 2.00000000e+00], Predicted: 2.0\n"
     ]
    },
    {
     "data": {
      "image/png": "[encoded data removed]",
      "text/plain": [
       "<Figure size 432x288 with 1 Axes>"
      ]
     },
     "metadata": {},
     "output_type": "display_data"
    }
   ],
   "source": [
    "# specify dimensions for input data for classification\n",
    "num_neighbors = 5\n",
    "# define a new input data vector\n",
    "row = [5.7 ,2.9 ,4.2 ,1.3 ,5.6 ,9.0 ,9.0 ,9.0 ,9.0 ,9.0 ,9.0]\n",
    "# row = [5.7,2.9,4.2]\n",
    "# predict the label\n",
    "label = predict_classification(np.array(np.matrix(data, dtype='float')), row, num_neighbors)\n",
    "# predict classification for first 20 input patient entries based on KNN classification\n",
    "for i in range(20):\n",
    "    labeld = predict_classification(np.array(np.matrix(data, dtype='float')), np.array(np.matrix(data, dtype='float'))[i ,:], num_neighbors)\n",
    "    print('Data=%s, Predicted: %s' % (np.array(np.matrix(data, dtype='float'))[i ,:], labeld))\n",
    "    # print('Data=%s, Predicted: %s' % (row, label))\n",
    "# predict classification for larger segment of input patient entries based on KNN classification\n",
    "Class = [predict_classification(np.array(np.matrix(data, dtype='float')), np.array(np.matrix(data, dtype='float'))[i ,:], num_neighbors) for i in range(int(data.shape[0])) ]\n",
    "# plot predictions of classifications based on KNN neighbor method\n",
    "xClass = [i for i in (range(int(data.shape[0]))) ]\n",
    "plt.plot(abs(np.array(xClass)) ,abs(np.array(Class)))\n",
    "plt.savefig('C:/Users/User/PycharmProjects/untitled3/knnmicrobiologyevents.png')\n",
    "plt.show()"
   ]
  }
 ],
 "metadata": {
  "kernelspec": {
   "display_name": "Python 3",
   "language": "python",
   "name": "python3"
  },
  "language_info": {
   "codemirror_mode": {
    "name": "ipython",
    "version": 3
   },
   "file_extension": ".py",
   "mimetype": "text/x-python",
   "name": "python",
   "nbconvert_exporter": "python",
   "pygments_lexer": "ipython3",
   "version": "3.7.6"
  }
 },
 "nbformat": 4,
 "nbformat_minor": 4
}
